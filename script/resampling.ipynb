{
 "cells": [
  {
   "cell_type": "code",
   "execution_count": 2,
   "metadata": {},
   "outputs": [
    {
     "name": "stdout",
     "output_type": "stream",
     "text": [
      "Data harian dengan interpolasi telah disimpan ke dalam file data_resampling_daily.xlsx\n"
     ]
    }
   ],
   "source": [
    "import pandas as pd\n",
    "\n",
    "# Baca file Excel yang memiliki beberapa sheet\n",
    "input_excel_file = 'data_resampling.xlsx'\n",
    "xls = pd.ExcelFile(input_excel_file)\n",
    "\n",
    "# Siapkan dictionary untuk menampung dataframe hasil interpolasi\n",
    "daily_data = {}\n",
    "\n",
    "# Loop melalui setiap sheet\n",
    "for sheet_name in xls.sheet_names:\n",
    "    # Baca data dari sheet\n",
    "    df = pd.read_excel(input_excel_file, sheet_name=sheet_name)\n",
    "    \n",
    "    # Menghapus kolom yang tidak diperlukan\n",
    "    df = df.drop(columns=['CORR_GAS_RES_RATE_MMSCFD', 'CORR_WTR_RATE_STBD', 'Universal'])\n",
    "    \n",
    "    # Konversi kolom DATE_STAMP menjadi datetime\n",
    "    df['DATE_STAMP'] = pd.to_datetime(df['DATE_STAMP'], format='%d/%m/%Y')\n",
    "    \n",
    "    # Mengatasi tanggal duplikat dengan melakukan agregasi rata-rata\n",
    "    df = df.groupby('DATE_STAMP').mean().reset_index()\n",
    "    \n",
    "    # Set DATE_STAMP sebagai index\n",
    "    df.set_index('DATE_STAMP', inplace=True)\n",
    "    \n",
    "    # Resample menjadi frekuensi harian dan lakukan interpolasi\n",
    "    df_daily = df.resample('D').interpolate()\n",
    "    \n",
    "    # Reset index untuk membuat DATE_STAMP menjadi kolom kembali\n",
    "    df_daily.reset_index(inplace=True)\n",
    "    \n",
    "    # Simpan hasilnya di dictionary dengan nama sheet sebagai kunci\n",
    "    daily_data[sheet_name] = df_daily\n",
    "\n",
    "# Tentukan nama file output Excel\n",
    "output_excel_file = 'data_resampling_daily.xlsx'\n",
    "\n",
    "# Tulis hasilnya ke file Excel baru\n",
    "with pd.ExcelWriter(output_excel_file) as writer:\n",
    "    for sheet_name, df_daily in daily_data.items():\n",
    "        df_daily.to_excel(writer, sheet_name=sheet_name, index=False)\n",
    "\n",
    "print(f\"Data harian dengan interpolasi telah disimpan ke dalam file {output_excel_file}\")\n"
   ]
  }
 ],
 "metadata": {
  "kernelspec": {
   "display_name": "Python 3",
   "language": "python",
   "name": "python3"
  },
  "language_info": {
   "codemirror_mode": {
    "name": "ipython",
    "version": 3
   },
   "file_extension": ".py",
   "mimetype": "text/x-python",
   "name": "python",
   "nbconvert_exporter": "python",
   "pygments_lexer": "ipython3",
   "version": "3.11.4"
  }
 },
 "nbformat": 4,
 "nbformat_minor": 2
}
